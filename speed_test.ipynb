{
 "cells": [
  {
   "cell_type": "markdown",
   "metadata": {},
   "source": [
    "### **Loading in the data**\n",
    "\n",
    "Out of curiosity I decided to compare pandas, Polars and PySpark to learn more about the libraries and their potential for big data analysis. PySpark mainly shines with very big data. <br> I used csv files from a project I'm currently working on."
   ]
  },
  {
   "cell_type": "code",
   "execution_count": 16,
   "metadata": {},
   "outputs": [],
   "source": [
    "# Importing necessary libraries\n",
    "import polars as pl\n",
    "import pandas as pd\n",
    "import matplotlib.pyplot as plt\n",
    "import seaborn as sns\n",
    "import time as time\n",
    "\n",
    "from pyspark.sql import SparkSession"
   ]
  },
  {
   "cell_type": "markdown",
   "metadata": {},
   "source": [
    "### **pandas**"
   ]
  },
  {
   "cell_type": "code",
   "execution_count": 17,
   "metadata": {},
   "outputs": [
    {
     "name": "stdout",
     "output_type": "stream",
     "text": [
      "Loading in the data using Pandas took 91.027 seconds.\n"
     ]
    }
   ],
   "source": [
    "# Start the timer\n",
    "start_time = time.time()\n",
    "\n",
    "df_2020 = pd.read_csv('fangstdata_2020.csv', sep=';', low_memory=False)\n",
    "df_2021 = pd.read_csv('fangstdata_2021.csv', sep=';', low_memory=False)\n",
    "df_2022 = pd.read_csv('fangstdata_2022.csv', sep=';', low_memory=False)\n",
    "df_2023 = pd.read_csv('fangstdata_2023.csv', sep=';', low_memory=False)\n",
    "df_2024 = pd.read_csv('fangstdata_2024.csv', sep=';', low_memory=False)\n",
    "\n",
    "# End the timer\n",
    "end_time = time.time()\n",
    "\n",
    "pd_execution_time = end_time - start_time\n",
    "\n",
    "# Print the execution time\n",
    "print(f'Loading in the data using Pandas took {pd_execution_time:.3f} seconds.')"
   ]
  },
  {
   "cell_type": "markdown",
   "metadata": {},
   "source": [
    "### **Polars**"
   ]
  },
  {
   "cell_type": "code",
   "execution_count": 23,
   "metadata": {},
   "outputs": [
    {
     "name": "stdout",
     "output_type": "stream",
     "text": [
      "Loading in the data using Polars took 13.823 seconds.\n"
     ]
    }
   ],
   "source": [
    "# Start the timer\n",
    "start_time = time.time()\n",
    "\n",
    "df_2020 = pl.read_csv('fangstdata_2020.csv', separator=';', ignore_errors=True)\n",
    "df_2021 = pl.read_csv('fangstdata_2021.csv', separator=';', ignore_errors=True)\n",
    "df_2022 = pl.read_csv('fangstdata_2022.csv', separator=';', ignore_errors=True)\n",
    "df_2023 = pl.read_csv('fangstdata_2023.csv', separator=';', ignore_errors=True)\n",
    "df_2024 = pl.read_csv('fangstdata_2024.csv', separator=';', ignore_errors=True)\n",
    "\n",
    "# End the timer\n",
    "end_time = time.time()\n",
    "\n",
    "pl_execution_time = end_time - start_time\n",
    "\n",
    "# Print the execution time\n",
    "print(f'Loading in the data using Polars took {pl_execution_time:.3f} seconds.')"
   ]
  },
  {
   "cell_type": "markdown",
   "metadata": {},
   "source": [
    "Polars is clearly a lot quicker than Pandas for loading in large files (> 1 GB)"
   ]
  },
  {
   "cell_type": "markdown",
   "metadata": {},
   "source": [
    "### **PySpark**"
   ]
  },
  {
   "cell_type": "code",
   "execution_count": 24,
   "metadata": {},
   "outputs": [
    {
     "name": "stdout",
     "output_type": "stream",
     "text": [
      "Loading in the data using PySpark took 22.660 seconds.\n"
     ]
    }
   ],
   "source": [
    "# Start the timer\n",
    "start_time = time.time()\n",
    "\n",
    "# Create SparkSession\n",
    "spark = SparkSession.builder.appName('Fangstdata').getOrCreate()\n",
    "\n",
    "# Load each year's \"fangstdata\", with a csv separator \";\"\n",
    "df_2020 = spark.read.csv('fangstdata_2020.csv', sep=';', header=True, inferSchema=True)\n",
    "df_2021 = spark.read.csv('fangstdata_2021.csv', sep=';', header=True, inferSchema=True)\n",
    "df_2022 = spark.read.csv('fangstdata_2022.csv', sep=';', header=True, inferSchema=True)\n",
    "df_2023 = spark.read.csv('fangstdata_2023.csv', sep=';', header=True, inferSchema=True)\n",
    "df_2024 = spark.read.csv('fangstdata_2024.csv', sep=';', header=True, inferSchema=True)\n",
    "\n",
    "# End the timer\n",
    "end_time = time.time()\n",
    "\n",
    "pyspark_execution_time = end_time - start_time\n",
    "\n",
    "# Print the execution time\n",
    "print(f'Loading in the data using PySpark took {pyspark_execution_time:.3f} seconds.')"
   ]
  },
  {
   "cell_type": "markdown",
   "metadata": {},
   "source": [
    "And so is PySpark."
   ]
  },
  {
   "cell_type": "markdown",
   "metadata": {},
   "source": [
    "### **Comparison plot**"
   ]
  },
  {
   "cell_type": "code",
   "execution_count": 42,
   "metadata": {},
   "outputs": [
    {
     "data": {
      "image/png": "[encoded data removed]",
      "text/plain": [
       "<Figure size 800x300 with 1 Axes>"
      ]
     },
     "metadata": {},
     "output_type": "display_data"
    }
   ],
   "source": [
    "# Data for the bar chart comparison\n",
    "exec_time = [pd_execution_time, pl_execution_time, pyspark_execution_time]\n",
    "libraries = ['pandas', 'Polars (Eager)', 'PySpark']\n",
    "\n",
    "comparison = pd.DataFrame({'Libraries' : libraries, \n",
    "                           'Execution time' : exec_time})\n",
    "\n",
    "plt.figure(figsize=(8,3))\n",
    "sns.set_style('ticks')\n",
    "\n",
    "# Execution time comparison plot\n",
    "sns.barplot(x='Execution time', \n",
    "            y='Libraries',\n",
    "            hue='Libraries', \n",
    "            data=comparison, \n",
    "            palette='crest')\n",
    "\n",
    "sns.despine()\n",
    "plt.ylabel('')\n",
    "plt.xlabel('Total time (s)')\n",
    "plt.title('Loading Five 1 GB CSV Files (800,000 - 1,080,000 rows)', \n",
    "          loc='right', \n",
    "          fontdict={'fontweight':'semibold', 'fontsize':12})\n",
    "\n",
    "plt.savefig('speed_test.png', dpi=100, bbox_inches='tight')"
   ]
  }
 ],
 "metadata": {
  "kernelspec": {
   "display_name": "Python 3",
   "language": "python",
   "name": "python3"
  },
  "language_info": {
   "codemirror_mode": {
    "name": "ipython",
    "version": 3
   },
   "file_extension": ".py",
   "mimetype": "text/x-python",
   "name": "python",
   "nbconvert_exporter": "python",
   "pygments_lexer": "ipython3",
   "version": "3.11.9"
  }
 },
 "nbformat": 4,
 "nbformat_minor": 2
}
